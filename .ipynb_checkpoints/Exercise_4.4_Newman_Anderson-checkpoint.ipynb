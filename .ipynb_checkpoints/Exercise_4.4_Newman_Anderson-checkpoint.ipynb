{
 "cells": [
  {
   "cell_type": "code",
   "execution_count": 3,
   "metadata": {},
   "outputs": [],
   "source": [
    "import numpy as np\n",
    "import matplotlib as plt"
   ]
  },
  {
   "cell_type": "code",
   "execution_count": 4,
   "metadata": {},
   "outputs": [
    {
     "name": "stdout",
     "output_type": "stream",
     "text": [
      "3.999799994999635e-06\n"
     ]
    }
   ],
   "source": [
    "#at the moment, this seems correct to me, but my number is getting smaller the greater my n value is rather than approaching\n",
    "#pi/2\n",
    "n = 10000\n",
    "h = 2 / n\n",
    "for k in range(0, n):\n",
    "    x_k = -1 + h * k\n",
    "    y_k = np.sqrt(1 - (x_k)**2)\n",
    "    i = np.sum(h * y_k)\n",
    "print(i)"
   ]
  },
  {
   "cell_type": "code",
   "execution_count": 5,
   "metadata": {},
   "outputs": [
    {
     "name": "stdout",
     "output_type": "stream",
     "text": [
      "1.0851232552000718\n",
      "Wall time: 1.01 s\n"
     ]
    }
   ],
   "source": [
    "%%time\n",
    "n = 125000\n",
    "h = 2 / (n)\n",
    "x_k = -1 + h * k\n",
    "y_k = np.sqrt(1 - (x_k**2))\n",
    "k = 1\n",
    "while k < n:\n",
    "    \n",
    "    i = np.sum(h * y_k) * n\n",
    "    k += 1 \n",
    "print(i)"
   ]
  },
  {
   "cell_type": "code",
   "execution_count": null,
   "metadata": {},
   "outputs": [],
   "source": []
  }
 ],
 "metadata": {
  "kernelspec": {
   "display_name": "Python 3",
   "language": "python",
   "name": "python3"
  },
  "language_info": {
   "codemirror_mode": {
    "name": "ipython",
    "version": 3
   },
   "file_extension": ".py",
   "mimetype": "text/x-python",
   "name": "python",
   "nbconvert_exporter": "python",
   "pygments_lexer": "ipython3",
   "version": "3.7.1"
  }
 },
 "nbformat": 4,
 "nbformat_minor": 2
}
