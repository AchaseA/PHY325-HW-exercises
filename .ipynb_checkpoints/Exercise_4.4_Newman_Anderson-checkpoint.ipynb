{
 "cells": [
  {
   "cell_type": "code",
   "execution_count": 3,
   "metadata": {},
   "outputs": [],
   "source": [
    "import numpy as np\n",
    "import matplotlib as plt"
   ]
  },
  {
   "cell_type": "code",
   "execution_count": 33,
   "metadata": {},
   "outputs": [
    {
     "name": "stdout",
     "output_type": "stream",
     "text": [
      "1.5707963202209734\n",
      "this yields a percent difference of: -4.1850894807021146e-07\n",
      "Wall time: 944 ms\n"
     ]
    }
   ],
   "source": [
    "%%time\n",
    "n = 400000\n",
    "tsum = 0\n",
    "h = 2 / n\n",
    "for k in range(0, n):\n",
    "    x_k = -1 + h * k\n",
    "    y_k = np.sqrt(1 - (x_k)**2)\n",
    "    tsum += y_k * h\n",
    "    #i = np.sum(h * y_k)\n",
    "print(tsum)\n",
    "\n",
    "per_difference = (tsum - (np.pi / 2)) / (np.pi / 2) *100\n",
    "print(\"this yields a percent difference of:\" , per_difference)"
   ]
  },
  {
   "cell_type": "markdown",
   "metadata": {},
   "source": [
    "a) When I ran it with only 100 slices, it produced a result of \"1.5691342555492505.\" this yields a percent different of about 0.11%\n",
    "\n",
    "b) while running the time magic, the closest I could get to 1 second was about 400,000 slices, which produced the result \"1.5707963202209734\", which is accurate up to the eighth decimal place."
   ]
  },
  {
   "cell_type": "code",
   "execution_count": 7,
   "metadata": {},
   "outputs": [
    {
     "name": "stdout",
     "output_type": "stream",
     "text": [
      "0.3979949748426484\n",
      "Wall time: 0 ns\n"
     ]
    }
   ],
   "source": [
    "#disregard this text, I just want to keep it to look back on\n",
    "\n",
    "#%%time\n",
    "#n = 100\n",
    "#h = 2 / (n)\n",
    "#x_k = -1 + h * k\n",
    "#y_k = np.sqrt(1 - (x_k**2))\n",
    "#k = 1\n",
    "#while k < n:\n",
    "    \n",
    "#    i = np.sum(h * y_k) * n\n",
    "#    k += 1 \n",
    "#print(i)"
   ]
  },
  {
   "cell_type": "code",
   "execution_count": null,
   "metadata": {},
   "outputs": [],
   "source": []
  }
 ],
 "metadata": {
  "kernelspec": {
   "display_name": "Python 3",
   "language": "python",
   "name": "python3"
  },
  "language_info": {
   "codemirror_mode": {
    "name": "ipython",
    "version": 3
   },
   "file_extension": ".py",
   "mimetype": "text/x-python",
   "name": "python",
   "nbconvert_exporter": "python",
   "pygments_lexer": "ipython3",
   "version": "3.7.1"
  }
 },
 "nbformat": 4,
 "nbformat_minor": 2
}
